{
 "cells": [
  {
   "cell_type": "code",
   "execution_count": 1,
   "id": "228dbdd3-5eba-479a-aa35-03f2c7620253",
   "metadata": {
    "tags": []
   },
   "outputs": [],
   "source": [
    "import nltk"
   ]
  },
  {
   "cell_type": "code",
   "execution_count": 2,
   "id": "1cb14929-1bf6-4189-93b7-4979a6a17e25",
   "metadata": {
    "tags": []
   },
   "outputs": [
    {
     "name": "stderr",
     "output_type": "stream",
     "text": [
      "[nltk_data] Downloading package twitter_samples to\n",
      "[nltk_data]     /home/student/nltk_data...\n",
      "[nltk_data]   Package twitter_samples is already up-to-date!\n"
     ]
    },
    {
     "data": {
      "text/plain": [
       "True"
      ]
     },
     "execution_count": 2,
     "metadata": {},
     "output_type": "execute_result"
    }
   ],
   "source": [
    "nltk.download(\"twitter_samples\")"
   ]
  },
  {
   "cell_type": "code",
   "execution_count": 3,
   "id": "a43ffdbc-4313-4018-9fe5-7cf5a0438a72",
   "metadata": {
    "tags": []
   },
   "outputs": [],
   "source": [
    "from nltk.corpus import twitter_samples"
   ]
  },
  {
   "cell_type": "code",
   "execution_count": 4,
   "id": "7a0389ff-5057-441d-8a04-5fc16b72782c",
   "metadata": {
    "tags": []
   },
   "outputs": [
    {
     "data": {
      "text/plain": [
       "3"
      ]
     },
     "execution_count": 4,
     "metadata": {},
     "output_type": "execute_result"
    }
   ],
   "source": [
    "len(twitter_samples.fileids())"
   ]
  },
  {
   "cell_type": "code",
   "execution_count": 5,
   "id": "ac4c5b1d-5e22-4971-8723-68cd1cb0f3c2",
   "metadata": {
    "tags": []
   },
   "outputs": [],
   "source": [
    "negative_fileids = twitter_samples.fileids()\n",
    "positive_fileids = twitter_samples.fileids()"
   ]
  },
  {
   "cell_type": "code",
   "execution_count": 6,
   "id": "84f529d9-3638-4288-a7ab-0908291d2267",
   "metadata": {
    "tags": []
   },
   "outputs": [
    {
     "data": {
      "text/plain": [
       "(3, 3)"
      ]
     },
     "execution_count": 6,
     "metadata": {},
     "output_type": "execute_result"
    }
   ],
   "source": [
    "len(negative_fileids), len(positive_fileids)"
   ]
  },
  {
   "cell_type": "code",
   "execution_count": 7,
   "id": "baa67316-e69e-4a25-be6b-c64ab44bcb0d",
   "metadata": {
    "tags": []
   },
   "outputs": [
    {
     "name": "stdout",
     "output_type": "stream",
     "text": [
      "{\"in_reply_to_status_id\": null, \"contributors\": null, \"filter_level\": \"low\", \"coordinates\": null, \"id_str\": \"593891099434983425\", \"favorited\": false, \"created_at\": \"Thu Apr 30 21:34:06 +0000 2015\", \"favorite_count\": 0, \"in_reply_to_status_id_str\": null, \"retweeted_status\": {\"in_reply_to_status_id\": null, \"contributors\": null, \"filter_level\": \"low\", \"coordinates\": null, \"id_str\": \"593885295323521025\", \"favorited\": false, \"created_at\": \"Thu Apr 30 21:11:02 +0000 2015\", \"favorite_count\": 3, \"in_reply_to_status_id_str\": null, \"in_reply_to_user_id\": null, \"in_reply_to_screen_name\": null, \"place\": null, \"id\": 593885295323521025, \"retweeted\": false, \"truncated\": false, \"text\": \"Indirect cost of the UK being in the EU is estimated to be costing Britain \\u00a3170 billion per year! #BetterOffOut #UK\n"
     ]
    }
   ],
   "source": [
    "print(twitter_samples.raw(fileids=positive_fileids[2])[:800])  "
   ]
  },
  {
   "cell_type": "code",
   "execution_count": 8,
   "id": "5bb0bd50-2a47-447d-95b3-831f34f7aae5",
   "metadata": {
    "tags": []
   },
   "outputs": [],
   "source": [
    "twitter_text = \"\"\"in_reply_to_status_id\": null, \"contributors\": null, \"filter_level\": \"low\", \"coordinates\": null, \"id_str\": \"593891099434983425\", \"favorited\": false, \"created_at\": \"Thu Apr 30 21:34:06 +0000 2015\", \"favorite_count\": 0, \"in_reply_to_status_id_str\": null, \"retweeted_status\": {\"in_reply_to_status_id\": null, \"contributors\": null, \"filter_level\": \"low\", \"coordinates\": null, \"id_str\": \"593885295323521025\", \"favorited\": false, \"created_at\": \"Thu Apr 30 21:11:02 +0000 2015\", \"favorite_count\": 3, \"in_reply_to_status_id_str\": null, \"in_reply_to_user_id\": null, \"in_reply_to_screen_name\": null, \"place\": null, \"id\": 593885295323521025, \"retweeted\": false, \"truncated\": false, \"text\": \"Indirect cost of the UK being in the EU is estimated to be costing Britain \\u00a3170 billion per year! #BetterOffOut #UK\"\"\""
   ]
  },
  {
   "cell_type": "code",
   "execution_count": 9,
   "id": "b97fc360-2187-4513-a119-7f0ab16eb1bc",
   "metadata": {
    "tags": []
   },
   "outputs": [
    {
     "data": {
      "text/plain": [
       "['in_reply_to_status_id\":',\n",
       " 'null,',\n",
       " '\"contributors\":',\n",
       " 'null,',\n",
       " '\"filter_level\":',\n",
       " '\"low\",',\n",
       " '\"coordinates\":',\n",
       " 'null,',\n",
       " '\"id_str\":',\n",
       " '\"593891099434983425\",',\n",
       " '\"favorited\":',\n",
       " 'false,',\n",
       " '\"created_at\":',\n",
       " '\"Thu',\n",
       " 'Apr',\n",
       " '30',\n",
       " '21:34:06',\n",
       " '+0000',\n",
       " '2015\",',\n",
       " '\"favorite_count\":',\n",
       " '0,',\n",
       " '\"in_reply_to_status_id_str\":',\n",
       " 'null,',\n",
       " '\"retweeted_status\":',\n",
       " '{\"in_reply_to_status_id\":',\n",
       " 'null,',\n",
       " '\"contributors\":',\n",
       " 'null,',\n",
       " '\"filter_level\":',\n",
       " '\"low\",',\n",
       " '\"coordinates\":',\n",
       " 'null,',\n",
       " '\"id_str\":',\n",
       " '\"593885295323521025\",',\n",
       " '\"favorited\":',\n",
       " 'false,',\n",
       " '\"created_at\":',\n",
       " '\"Thu',\n",
       " 'Apr',\n",
       " '30',\n",
       " '21:11:02',\n",
       " '+0000',\n",
       " '2015\",',\n",
       " '\"favorite_count\":',\n",
       " '3,',\n",
       " '\"in_reply_to_status_id_str\":',\n",
       " 'null,',\n",
       " '\"in_reply_to_user_id\":',\n",
       " 'null,',\n",
       " '\"in_reply_to_screen_name\":',\n",
       " 'null,',\n",
       " '\"place\":',\n",
       " 'null,',\n",
       " '\"id\":',\n",
       " '593885295323521025,',\n",
       " '\"retweeted\":',\n",
       " 'false,',\n",
       " '\"truncated\":',\n",
       " 'false,',\n",
       " '\"text\":',\n",
       " '\"Indirect',\n",
       " 'cost',\n",
       " 'of',\n",
       " 'the',\n",
       " 'UK',\n",
       " 'being',\n",
       " 'in',\n",
       " 'the',\n",
       " 'EU',\n",
       " 'is',\n",
       " 'estimated',\n",
       " 'to',\n",
       " 'be',\n",
       " 'costing',\n",
       " 'Britain',\n",
       " '£170',\n",
       " 'billion',\n",
       " 'per',\n",
       " 'year!',\n",
       " '#BetterOffOut',\n",
       " '#UK']"
      ]
     },
     "execution_count": 9,
     "metadata": {},
     "output_type": "execute_result"
    }
   ],
   "source": [
    "twitter_text.split()"
   ]
  },
  {
   "cell_type": "code",
   "execution_count": 10,
   "id": "fcfb2887-4e2c-46ab-a8a2-7203e67bf38b",
   "metadata": {
    "tags": []
   },
   "outputs": [
    {
     "name": "stderr",
     "output_type": "stream",
     "text": [
      "[nltk_data] Downloading package punkt to /home/student/nltk_data...\n",
      "[nltk_data]   Package punkt is already up-to-date!\n"
     ]
    },
    {
     "data": {
      "text/plain": [
       "True"
      ]
     },
     "execution_count": 10,
     "metadata": {},
     "output_type": "execute_result"
    }
   ],
   "source": [
    "nltk.download(\"punkt\")"
   ]
  },
  {
   "cell_type": "code",
   "execution_count": 11,
   "id": "3aeddb9a-a361-4096-b8e4-3f05539b902d",
   "metadata": {
    "tags": []
   },
   "outputs": [],
   "source": [
    "twitter_post = nltk.word_tokenize(twitter_text)"
   ]
  },
  {
   "cell_type": "code",
   "execution_count": 12,
   "id": "f81e5ef9-739f-424a-9ab3-f6b8ed8b7a71",
   "metadata": {
    "tags": []
   },
   "outputs": [
    {
     "data": {
      "text/plain": [
       "['in_reply_to_status_id',\n",
       " \"''\",\n",
       " ':',\n",
       " 'null',\n",
       " ',',\n",
       " '``',\n",
       " 'contributors',\n",
       " \"''\",\n",
       " ':',\n",
       " 'null',\n",
       " ',',\n",
       " '``',\n",
       " 'filter_level',\n",
       " \"''\",\n",
       " ':',\n",
       " '``',\n",
       " 'low',\n",
       " \"''\",\n",
       " ',',\n",
       " '``',\n",
       " 'coordinates',\n",
       " \"''\",\n",
       " ':',\n",
       " 'null',\n",
       " ',',\n",
       " '``',\n",
       " 'id_str',\n",
       " \"''\",\n",
       " ':',\n",
       " '``',\n",
       " '593891099434983425',\n",
       " \"''\",\n",
       " ',',\n",
       " '``',\n",
       " 'favorited',\n",
       " \"''\",\n",
       " ':',\n",
       " 'false',\n",
       " ',',\n",
       " '``',\n",
       " 'created_at',\n",
       " \"''\",\n",
       " ':',\n",
       " '``',\n",
       " 'Thu',\n",
       " 'Apr',\n",
       " '30',\n",
       " '21:34:06',\n",
       " '+0000',\n",
       " '2015',\n",
       " \"''\",\n",
       " ',',\n",
       " '``',\n",
       " 'favorite_count',\n",
       " \"''\",\n",
       " ':',\n",
       " '0',\n",
       " ',',\n",
       " '``',\n",
       " 'in_reply_to_status_id_str',\n",
       " \"''\",\n",
       " ':',\n",
       " 'null',\n",
       " ',',\n",
       " '``',\n",
       " 'retweeted_status',\n",
       " \"''\",\n",
       " ':',\n",
       " '{',\n",
       " '``',\n",
       " 'in_reply_to_status_id',\n",
       " \"''\",\n",
       " ':',\n",
       " 'null',\n",
       " ',',\n",
       " '``',\n",
       " 'contributors',\n",
       " \"''\",\n",
       " ':',\n",
       " 'null',\n",
       " ',',\n",
       " '``',\n",
       " 'filter_level',\n",
       " \"''\",\n",
       " ':',\n",
       " '``',\n",
       " 'low',\n",
       " \"''\",\n",
       " ',',\n",
       " '``',\n",
       " 'coordinates',\n",
       " \"''\",\n",
       " ':',\n",
       " 'null',\n",
       " ',',\n",
       " '``',\n",
       " 'id_str',\n",
       " \"''\",\n",
       " ':',\n",
       " '``',\n",
       " '593885295323521025',\n",
       " \"''\",\n",
       " ',',\n",
       " '``',\n",
       " 'favorited',\n",
       " \"''\",\n",
       " ':',\n",
       " 'false',\n",
       " ',',\n",
       " '``',\n",
       " 'created_at',\n",
       " \"''\",\n",
       " ':',\n",
       " '``',\n",
       " 'Thu',\n",
       " 'Apr',\n",
       " '30',\n",
       " '21:11:02',\n",
       " '+0000',\n",
       " '2015',\n",
       " \"''\",\n",
       " ',',\n",
       " '``',\n",
       " 'favorite_count',\n",
       " \"''\",\n",
       " ':',\n",
       " '3',\n",
       " ',',\n",
       " '``',\n",
       " 'in_reply_to_status_id_str',\n",
       " \"''\",\n",
       " ':',\n",
       " 'null',\n",
       " ',',\n",
       " '``',\n",
       " 'in_reply_to_user_id',\n",
       " \"''\",\n",
       " ':',\n",
       " 'null',\n",
       " ',',\n",
       " '``',\n",
       " 'in_reply_to_screen_name',\n",
       " \"''\",\n",
       " ':',\n",
       " 'null',\n",
       " ',',\n",
       " '``',\n",
       " 'place',\n",
       " \"''\",\n",
       " ':',\n",
       " 'null',\n",
       " ',',\n",
       " '``',\n",
       " 'id',\n",
       " \"''\",\n",
       " ':',\n",
       " '593885295323521025',\n",
       " ',',\n",
       " '``',\n",
       " 'retweeted',\n",
       " \"''\",\n",
       " ':',\n",
       " 'false',\n",
       " ',',\n",
       " '``',\n",
       " 'truncated',\n",
       " \"''\",\n",
       " ':',\n",
       " 'false',\n",
       " ',',\n",
       " '``',\n",
       " 'text',\n",
       " \"''\",\n",
       " ':',\n",
       " '``',\n",
       " 'Indirect',\n",
       " 'cost',\n",
       " 'of',\n",
       " 'the',\n",
       " 'UK',\n",
       " 'being',\n",
       " 'in',\n",
       " 'the',\n",
       " 'EU',\n",
       " 'is',\n",
       " 'estimated',\n",
       " 'to',\n",
       " 'be',\n",
       " 'costing',\n",
       " 'Britain',\n",
       " '£170',\n",
       " 'billion',\n",
       " 'per',\n",
       " 'year',\n",
       " '!',\n",
       " '#',\n",
       " 'BetterOffOut',\n",
       " '#',\n",
       " 'UK']"
      ]
     },
     "execution_count": 12,
     "metadata": {},
     "output_type": "execute_result"
    }
   ],
   "source": [
    "twitter_post"
   ]
  },
  {
   "cell_type": "code",
   "execution_count": 13,
   "id": "6d93998b-347b-4edd-86f4-a7d1e8d00518",
   "metadata": {
    "tags": []
   },
   "outputs": [
    {
     "data": {
      "text/plain": [
       "{'in_reply_to_status_id': True,\n",
       " \"''\": True,\n",
       " ':': True,\n",
       " 'null': True,\n",
       " ',': True,\n",
       " '``': True,\n",
       " 'contributors': True,\n",
       " 'filter_level': True,\n",
       " 'low': True,\n",
       " 'coordinates': True,\n",
       " 'id_str': True,\n",
       " '593891099434983425': True,\n",
       " 'favorited': True,\n",
       " 'false': True,\n",
       " 'created_at': True,\n",
       " 'Thu': True,\n",
       " 'Apr': True,\n",
       " '30': True,\n",
       " '21:34:06': True,\n",
       " '+0000': True,\n",
       " '2015': True,\n",
       " 'favorite_count': True,\n",
       " '0': True,\n",
       " 'in_reply_to_status_id_str': True,\n",
       " 'retweeted_status': True,\n",
       " '{': True,\n",
       " '593885295323521025': True,\n",
       " '21:11:02': True,\n",
       " '3': True,\n",
       " 'in_reply_to_user_id': True,\n",
       " 'in_reply_to_screen_name': True,\n",
       " 'place': True,\n",
       " 'id': True,\n",
       " 'retweeted': True,\n",
       " 'truncated': True,\n",
       " 'text': True,\n",
       " 'Indirect': True,\n",
       " 'cost': True,\n",
       " 'of': True,\n",
       " 'the': True,\n",
       " 'UK': True,\n",
       " 'being': True,\n",
       " 'in': True,\n",
       " 'EU': True,\n",
       " 'is': True,\n",
       " 'estimated': True,\n",
       " 'to': True,\n",
       " 'be': True,\n",
       " 'costing': True,\n",
       " 'Britain': True,\n",
       " '£170': True,\n",
       " 'billion': True,\n",
       " 'per': True,\n",
       " 'year': True,\n",
       " '!': True,\n",
       " '#': True,\n",
       " 'BetterOffOut': True}"
      ]
     },
     "execution_count": 13,
     "metadata": {},
     "output_type": "execute_result"
    }
   ],
   "source": [
    "{word: True for word in twitter_post}"
   ]
  },
  {
   "cell_type": "code",
   "execution_count": 14,
   "id": "7e77acdb-1c96-4338-a546-e3985166509e",
   "metadata": {
    "tags": []
   },
   "outputs": [
    {
     "data": {
      "text/plain": [
       "dict"
      ]
     },
     "execution_count": 14,
     "metadata": {},
     "output_type": "execute_result"
    }
   ],
   "source": [
    "type(_)"
   ]
  },
  {
   "cell_type": "code",
   "execution_count": 15,
   "id": "622fa300-0de3-4f1d-8137-c5c9a513aea5",
   "metadata": {
    "tags": []
   },
   "outputs": [],
   "source": [
    "def build_bag_of_words_features(posts):\n",
    "    return {post: True for post in posts}"
   ]
  },
  {
   "cell_type": "code",
   "execution_count": 16,
   "id": "6d116fb5-a0c7-4e8d-8e41-2396a226bd22",
   "metadata": {
    "tags": []
   },
   "outputs": [
    {
     "data": {
      "text/plain": [
       "{'in_reply_to_status_id': True,\n",
       " \"''\": True,\n",
       " ':': True,\n",
       " 'null': True,\n",
       " ',': True,\n",
       " '``': True,\n",
       " 'contributors': True,\n",
       " 'filter_level': True,\n",
       " 'low': True,\n",
       " 'coordinates': True,\n",
       " 'id_str': True,\n",
       " '593891099434983425': True,\n",
       " 'favorited': True,\n",
       " 'false': True,\n",
       " 'created_at': True,\n",
       " 'Thu': True,\n",
       " 'Apr': True,\n",
       " '30': True,\n",
       " '21:34:06': True,\n",
       " '+0000': True,\n",
       " '2015': True,\n",
       " 'favorite_count': True,\n",
       " '0': True,\n",
       " 'in_reply_to_status_id_str': True,\n",
       " 'retweeted_status': True,\n",
       " '{': True,\n",
       " '593885295323521025': True,\n",
       " '21:11:02': True,\n",
       " '3': True,\n",
       " 'in_reply_to_user_id': True,\n",
       " 'in_reply_to_screen_name': True,\n",
       " 'place': True,\n",
       " 'id': True,\n",
       " 'retweeted': True,\n",
       " 'truncated': True,\n",
       " 'text': True,\n",
       " 'Indirect': True,\n",
       " 'cost': True,\n",
       " 'of': True,\n",
       " 'the': True,\n",
       " 'UK': True,\n",
       " 'being': True,\n",
       " 'in': True,\n",
       " 'EU': True,\n",
       " 'is': True,\n",
       " 'estimated': True,\n",
       " 'to': True,\n",
       " 'be': True,\n",
       " 'costing': True,\n",
       " 'Britain': True,\n",
       " '£170': True,\n",
       " 'billion': True,\n",
       " 'per': True,\n",
       " 'year': True,\n",
       " '!': True,\n",
       " '#': True,\n",
       " 'BetterOffOut': True}"
      ]
     },
     "execution_count": 16,
     "metadata": {},
     "output_type": "execute_result"
    }
   ],
   "source": [
    "build_bag_of_words_features(twitter_post)"
   ]
  },
  {
   "cell_type": "code",
   "execution_count": 17,
   "id": "6cc76563-80d6-48c9-a8d9-1a544ff2b699",
   "metadata": {
    "tags": []
   },
   "outputs": [
    {
     "name": "stderr",
     "output_type": "stream",
     "text": [
      "[nltk_data] Downloading package stopwords to\n",
      "[nltk_data]     /home/student/nltk_data...\n",
      "[nltk_data]   Package stopwords is already up-to-date!\n"
     ]
    },
    {
     "data": {
      "text/plain": [
       "True"
      ]
     },
     "execution_count": 17,
     "metadata": {},
     "output_type": "execute_result"
    }
   ],
   "source": [
    "nltk.download(\"stopwords\")"
   ]
  },
  {
   "cell_type": "code",
   "execution_count": 18,
   "id": "aa92fef5-ed35-4d3c-805e-82dc04c6dec2",
   "metadata": {
    "tags": []
   },
   "outputs": [],
   "source": [
    "import string"
   ]
  },
  {
   "cell_type": "code",
   "execution_count": 19,
   "id": "ccf0ae17-32ad-49e8-bf02-c9f70ad97913",
   "metadata": {
    "tags": []
   },
   "outputs": [
    {
     "data": {
      "text/plain": [
       "'!\"#$%&\\'()*+,-./:;<=>?@[\\\\]^_`{|}~'"
      ]
     },
     "execution_count": 19,
     "metadata": {},
     "output_type": "execute_result"
    }
   ],
   "source": [
    "string.punctuation"
   ]
  },
  {
   "cell_type": "code",
   "execution_count": 20,
   "id": "4fe241a3-5ac7-464c-863e-2e16976f70bd",
   "metadata": {
    "tags": []
   },
   "outputs": [],
   "source": [
    "useless_words = nltk.corpus.stopwords.words(\"english\") + list(string.punctuation)\n",
    "\n"
   ]
  },
  {
   "cell_type": "code",
   "execution_count": 21,
   "id": "22731dcd-3882-499c-9650-d0b93d0ec33d",
   "metadata": {
    "tags": []
   },
   "outputs": [
    {
     "data": {
      "text/plain": [
       "['i',\n",
       " 'me',\n",
       " 'my',\n",
       " 'myself',\n",
       " 'we',\n",
       " 'our',\n",
       " 'ours',\n",
       " 'ourselves',\n",
       " 'you',\n",
       " \"you're\",\n",
       " \"you've\",\n",
       " \"you'll\",\n",
       " \"you'd\",\n",
       " 'your',\n",
       " 'yours',\n",
       " 'yourself',\n",
       " 'yourselves',\n",
       " 'he',\n",
       " 'him',\n",
       " 'his',\n",
       " 'himself',\n",
       " 'she',\n",
       " \"she's\",\n",
       " 'her',\n",
       " 'hers',\n",
       " 'herself',\n",
       " 'it',\n",
       " \"it's\",\n",
       " 'its',\n",
       " 'itself',\n",
       " 'they',\n",
       " 'them',\n",
       " 'their',\n",
       " 'theirs',\n",
       " 'themselves',\n",
       " 'what',\n",
       " 'which',\n",
       " 'who',\n",
       " 'whom',\n",
       " 'this',\n",
       " 'that',\n",
       " \"that'll\",\n",
       " 'these',\n",
       " 'those',\n",
       " 'am',\n",
       " 'is',\n",
       " 'are',\n",
       " 'was',\n",
       " 'were',\n",
       " 'be',\n",
       " 'been',\n",
       " 'being',\n",
       " 'have',\n",
       " 'has',\n",
       " 'had',\n",
       " 'having',\n",
       " 'do',\n",
       " 'does',\n",
       " 'did',\n",
       " 'doing',\n",
       " 'a',\n",
       " 'an',\n",
       " 'the',\n",
       " 'and',\n",
       " 'but',\n",
       " 'if',\n",
       " 'or',\n",
       " 'because',\n",
       " 'as',\n",
       " 'until',\n",
       " 'while',\n",
       " 'of',\n",
       " 'at',\n",
       " 'by',\n",
       " 'for',\n",
       " 'with',\n",
       " 'about',\n",
       " 'against',\n",
       " 'between',\n",
       " 'into',\n",
       " 'through',\n",
       " 'during',\n",
       " 'before',\n",
       " 'after',\n",
       " 'above',\n",
       " 'below',\n",
       " 'to',\n",
       " 'from',\n",
       " 'up',\n",
       " 'down',\n",
       " 'in',\n",
       " 'out',\n",
       " 'on',\n",
       " 'off',\n",
       " 'over',\n",
       " 'under',\n",
       " 'again',\n",
       " 'further',\n",
       " 'then',\n",
       " 'once',\n",
       " 'here',\n",
       " 'there',\n",
       " 'when',\n",
       " 'where',\n",
       " 'why',\n",
       " 'how',\n",
       " 'all',\n",
       " 'any',\n",
       " 'both',\n",
       " 'each',\n",
       " 'few',\n",
       " 'more',\n",
       " 'most',\n",
       " 'other',\n",
       " 'some',\n",
       " 'such',\n",
       " 'no',\n",
       " 'nor',\n",
       " 'not',\n",
       " 'only',\n",
       " 'own',\n",
       " 'same',\n",
       " 'so',\n",
       " 'than',\n",
       " 'too',\n",
       " 'very',\n",
       " 's',\n",
       " 't',\n",
       " 'can',\n",
       " 'will',\n",
       " 'just',\n",
       " 'don',\n",
       " \"don't\",\n",
       " 'should',\n",
       " \"should've\",\n",
       " 'now',\n",
       " 'd',\n",
       " 'll',\n",
       " 'm',\n",
       " 'o',\n",
       " 're',\n",
       " 've',\n",
       " 'y',\n",
       " 'ain',\n",
       " 'aren',\n",
       " \"aren't\",\n",
       " 'couldn',\n",
       " \"couldn't\",\n",
       " 'didn',\n",
       " \"didn't\",\n",
       " 'doesn',\n",
       " \"doesn't\",\n",
       " 'hadn',\n",
       " \"hadn't\",\n",
       " 'hasn',\n",
       " \"hasn't\",\n",
       " 'haven',\n",
       " \"haven't\",\n",
       " 'isn',\n",
       " \"isn't\",\n",
       " 'ma',\n",
       " 'mightn',\n",
       " \"mightn't\",\n",
       " 'mustn',\n",
       " \"mustn't\",\n",
       " 'needn',\n",
       " \"needn't\",\n",
       " 'shan',\n",
       " \"shan't\",\n",
       " 'shouldn',\n",
       " \"shouldn't\",\n",
       " 'wasn',\n",
       " \"wasn't\",\n",
       " 'weren',\n",
       " \"weren't\",\n",
       " 'won',\n",
       " \"won't\",\n",
       " 'wouldn',\n",
       " \"wouldn't\",\n",
       " '!',\n",
       " '\"',\n",
       " '#',\n",
       " '$',\n",
       " '%',\n",
       " '&',\n",
       " \"'\",\n",
       " '(',\n",
       " ')',\n",
       " '*',\n",
       " '+',\n",
       " ',',\n",
       " '-',\n",
       " '.',\n",
       " '/',\n",
       " ':',\n",
       " ';',\n",
       " '<',\n",
       " '=',\n",
       " '>',\n",
       " '?',\n",
       " '@',\n",
       " '[',\n",
       " '\\\\',\n",
       " ']',\n",
       " '^',\n",
       " '_',\n",
       " '`',\n",
       " '{',\n",
       " '|',\n",
       " '}',\n",
       " '~']"
      ]
     },
     "execution_count": 21,
     "metadata": {},
     "output_type": "execute_result"
    }
   ],
   "source": [
    "useless_words"
   ]
  },
  {
   "cell_type": "code",
   "execution_count": 22,
   "id": "33f49816-3825-4e86-b770-4ce1a8aa604a",
   "metadata": {
    "tags": []
   },
   "outputs": [
    {
     "data": {
      "text/plain": [
       "list"
      ]
     },
     "execution_count": 22,
     "metadata": {},
     "output_type": "execute_result"
    }
   ],
   "source": [
    "type(useless_words)"
   ]
  },
  {
   "cell_type": "code",
   "execution_count": 23,
   "id": "8641f5a7-1ab4-472d-9763-62022247a943",
   "metadata": {
    "tags": []
   },
   "outputs": [],
   "source": [
    "def build_of_bag_of_words_features_filtered(posts):\n",
    "    return { \n",
    "        post: 1 for post in posts \\\n",
    "        if not post in useless_words\n",
    "    }\n"
   ]
  },
  {
   "cell_type": "code",
   "execution_count": 24,
   "id": "689e9116-b877-4280-b60d-7aa1729f3c4f",
   "metadata": {
    "tags": []
   },
   "outputs": [
    {
     "data": {
      "text/plain": [
       "{'in_reply_to_status_id': 1,\n",
       " \"''\": 1,\n",
       " 'null': 1,\n",
       " '``': 1,\n",
       " 'contributors': 1,\n",
       " 'filter_level': 1,\n",
       " 'low': 1,\n",
       " 'coordinates': 1,\n",
       " 'id_str': 1,\n",
       " '593891099434983425': 1,\n",
       " 'favorited': 1,\n",
       " 'false': 1,\n",
       " 'created_at': 1,\n",
       " 'Thu': 1,\n",
       " 'Apr': 1,\n",
       " '30': 1,\n",
       " '21:34:06': 1,\n",
       " '+0000': 1,\n",
       " '2015': 1,\n",
       " 'favorite_count': 1,\n",
       " '0': 1,\n",
       " 'in_reply_to_status_id_str': 1,\n",
       " 'retweeted_status': 1,\n",
       " '593885295323521025': 1,\n",
       " '21:11:02': 1,\n",
       " '3': 1,\n",
       " 'in_reply_to_user_id': 1,\n",
       " 'in_reply_to_screen_name': 1,\n",
       " 'place': 1,\n",
       " 'id': 1,\n",
       " 'retweeted': 1,\n",
       " 'truncated': 1,\n",
       " 'text': 1,\n",
       " 'Indirect': 1,\n",
       " 'cost': 1,\n",
       " 'UK': 1,\n",
       " 'EU': 1,\n",
       " 'estimated': 1,\n",
       " 'costing': 1,\n",
       " 'Britain': 1,\n",
       " '£170': 1,\n",
       " 'billion': 1,\n",
       " 'per': 1,\n",
       " 'year': 1,\n",
       " 'BetterOffOut': 1}"
      ]
     },
     "execution_count": 24,
     "metadata": {},
     "output_type": "execute_result"
    }
   ],
   "source": [
    "build_of_bag_of_words_features_filtered(twitter_post)"
   ]
  },
  {
   "cell_type": "code",
   "execution_count": 25,
   "id": "06337209-22c3-428a-8939-ef77bfcdc35b",
   "metadata": {
    "tags": []
   },
   "outputs": [
    {
     "data": {
      "image/png": "[encoded data removed]",
      "text/plain": [
       "<Figure size 1000x500 with 1 Axes>"
      ]
     },
     "metadata": {},
     "output_type": "display_data"
    }
   ],
   "source": [
    "import matplotlib.pyplot as plt\n",
    "from wordcloud import WordCloud\n",
    "\n",
    "\n",
    "#create a word cloud object\n",
    "\n",
    "wordcloud = WordCloud(width=800, height=400, background_color='white').generate(twitter_text)\n",
    "\n",
    "#display the generated wordcloud\n",
    "\n",
    "plt.figure(figsize=(10,5))\n",
    "plt.imshow(wordcloud, interpolation='bilinear')\n",
    "plt.axis('off')\n",
    "plt.show()"
   ]
  },
  {
   "cell_type": "code",
   "execution_count": 26,
   "id": "47035949-decc-4af7-a259-d87e3373c22a",
   "metadata": {
    "tags": []
   },
   "outputs": [
    {
     "data": {
      "text/plain": [
       "0.03"
      ]
     },
     "execution_count": 26,
     "metadata": {},
     "output_type": "execute_result"
    }
   ],
   "source": [
    "\n",
    "all_tweets = twitter_samples.strings()\n",
    "len(all_tweets) / 1e6\n"
   ]
  },
  {
   "cell_type": "code",
   "execution_count": 27,
   "id": "1635b825-3931-4135-be8e-38df9c5b84c1",
   "metadata": {
    "tags": []
   },
   "outputs": [
    {
     "data": {
      "text/plain": [
       "list"
      ]
     },
     "execution_count": 27,
     "metadata": {},
     "output_type": "execute_result"
    }
   ],
   "source": [
    "filtered_string= [post for post in twitter_samples.strings()\n",
    "                if not post in useless_words]\n",
    "type(filtered_string)"
   ]
  },
  {
   "cell_type": "code",
   "execution_count": 28,
   "id": "b14ed6dc-67c2-468a-b650-69a62fbe3fb2",
   "metadata": {
    "tags": []
   },
   "outputs": [
    {
     "data": {
      "text/plain": [
       "0.03"
      ]
     },
     "execution_count": 28,
     "metadata": {},
     "output_type": "execute_result"
    }
   ],
   "source": [
    "len (filtered_string)/1e6"
   ]
  },
  {
   "cell_type": "code",
   "execution_count": 29,
   "id": "f0ad6d4c-040b-4c1b-81e7-4d870acbe444",
   "metadata": {
    "tags": []
   },
   "outputs": [],
   "source": [
    "from collections import Counter\n",
    "string_counter = Counter(filtered_string)"
   ]
  },
  {
   "cell_type": "code",
   "execution_count": 30,
   "id": "d1a60394-71cb-4046-96ea-0d898f9960a5",
   "metadata": {
    "tags": []
   },
   "outputs": [],
   "source": [
    "most_common_string = string_counter.most_common()[:5]"
   ]
  },
  {
   "cell_type": "code",
   "execution_count": 31,
   "id": "79c25e69-8555-4eaa-8070-a7136e556685",
   "metadata": {
    "tags": []
   },
   "outputs": [
    {
     "data": {
      "text/plain": [
       "[('RT @Tommy_Colc: Financial Times come out in support of Tories claiming Miliband is \"preoccupied w/ inequality\". The man who wrote it http:/…',\n",
       "  491),\n",
       " ('RT @NicolaSturgeon: If Miliband is going to let Tories in rather than work with SNP, we will definitely need lots of SNP MPs to protect Sco…',\n",
       "  430),\n",
       " ('RT @Tommy_Colc: FT come out in support of Tories claiming Miliband is \"preoccupied w/ inequality\". The man who wrote it @sturdyAlex http://…',\n",
       "  131),\n",
       " ('RT @thomasmessenger: For all Tories claiming that Labour overspent and thus caused a global financial crisis, ahem... http://t.co/DkLwCwzhDA',\n",
       "  131),\n",
       " (\"RT @abstex: The FT is backing the Tories. On an unrelated note, here's a photo of FT leader writer Jonathan Ford (next to Boris) http://t.c…\",\n",
       "  117)]"
      ]
     },
     "execution_count": 31,
     "metadata": {},
     "output_type": "execute_result"
    }
   ],
   "source": [
    "most_common_string"
   ]
  },
  {
   "cell_type": "code",
   "execution_count": 32,
   "id": "f59a80bb-87e4-46d9-9a66-51544001fa12",
   "metadata": {
    "tags": []
   },
   "outputs": [],
   "source": [
    "%matplotlib inline\n",
    "import matplotlib.pyplot as plt"
   ]
  },
  {
   "cell_type": "code",
   "execution_count": 33,
   "id": "2ab8dbfc-1057-4400-b384-76f1d3745a86",
   "metadata": {
    "tags": []
   },
   "outputs": [
    {
     "data": {
      "image/png": "[encoded data removed]",
      "text/plain": [
       "<Figure size 640x480 with 1 Axes>"
      ]
     },
     "metadata": {},
     "output_type": "display_data"
    }
   ],
   "source": [
    "sorted_string_counts = sorted(list(string_counter.values()), reverse=True)\n",
    "plt.loglog(sorted_string_counts)\n",
    "plt.ylabel(\"Freq\")\n",
    "plt.xlabel(\"Word Rank\");"
   ]
  },
  {
   "cell_type": "code",
   "execution_count": 34,
   "id": "87d46c7a-dab1-4642-88e0-091bf185a468",
   "metadata": {
    "tags": []
   },
   "outputs": [
    {
     "data": {
      "text/plain": [
       "(array([2.0196e+04, 1.4900e+02, 3.7000e+01, 9.0000e+00, 8.0000e+00,\n",
       "        4.0000e+00, 5.0000e+00, 1.0000e+00, 1.0000e+00, 0.0000e+00,\n",
       "        1.0000e+00, 1.0000e+00, 0.0000e+00, 2.0000e+00, 0.0000e+00,\n",
       "        0.0000e+00, 0.0000e+00, 0.0000e+00, 0.0000e+00, 0.0000e+00,\n",
       "        0.0000e+00, 0.0000e+00, 0.0000e+00, 0.0000e+00, 0.0000e+00,\n",
       "        0.0000e+00, 0.0000e+00, 0.0000e+00, 0.0000e+00, 0.0000e+00,\n",
       "        0.0000e+00, 0.0000e+00, 0.0000e+00, 0.0000e+00, 0.0000e+00,\n",
       "        0.0000e+00, 0.0000e+00, 0.0000e+00, 0.0000e+00, 0.0000e+00,\n",
       "        0.0000e+00, 0.0000e+00, 0.0000e+00, 1.0000e+00, 0.0000e+00,\n",
       "        0.0000e+00, 0.0000e+00, 0.0000e+00, 0.0000e+00, 1.0000e+00]),\n",
       " array([  1. ,  10.8,  20.6,  30.4,  40.2,  50. ,  59.8,  69.6,  79.4,\n",
       "         89.2,  99. , 108.8, 118.6, 128.4, 138.2, 148. , 157.8, 167.6,\n",
       "        177.4, 187.2, 197. , 206.8, 216.6, 226.4, 236.2, 246. , 255.8,\n",
       "        265.6, 275.4, 285.2, 295. , 304.8, 314.6, 324.4, 334.2, 344. ,\n",
       "        353.8, 363.6, 373.4, 383.2, 393. , 402.8, 412.6, 422.4, 432.2,\n",
       "        442. , 451.8, 461.6, 471.4, 481.2, 491. ]),\n",
       " <BarContainer object of 50 artists>)"
      ]
     },
     "execution_count": 34,
     "metadata": {},
     "output_type": "execute_result"
    },
    {
     "data": {
      "image/png": "[encoded data removed]",
      "text/plain": [
       "<Figure size 640x480 with 1 Axes>"
      ]
     },
     "metadata": {},
     "output_type": "display_data"
    }
   ],
   "source": [
    "plt.hist(sorted_string_counts, bins=50)"
   ]
  },
  {
   "cell_type": "code",
   "execution_count": 35,
   "id": "a266f6fc-a52b-4e05-8a3c-cd5fb1cd4a70",
   "metadata": {
    "tags": []
   },
   "outputs": [],
   "source": [
    "negative_features = [\n",
    "    (build_of_bag_of_words_features_filtered\n",
    "    (twitter_samples.strings(fileids=[f])))\\\n",
    "    for f in negative_fileids\n",
    "]"
   ]
  },
  {
   "cell_type": "code",
   "execution_count": 36,
   "id": "6f2b9ece-4a80-4f8e-bcb3-04b325507591",
   "metadata": {
    "tags": []
   },
   "outputs": [],
   "source": [
    "positive_features = [\n",
    "    (build_of_bag_of_words_features_filtered\n",
    "    (twitter_samples.strings(fileids=[f])))\\\n",
    "    for f in positive_fileids\n",
    "]"
   ]
  },
  {
   "cell_type": "code",
   "execution_count": 37,
   "id": "947ae4ce-cd1e-46c4-b666-2d28dbed866f",
   "metadata": {
    "tags": []
   },
   "outputs": [],
   "source": [
    "from nltk.classify import NaiveBayesClassifier"
   ]
  },
  {
   "cell_type": "code",
   "execution_count": 38,
   "id": "9204bb1a-1bed-46da-86b2-7e34711fa58f",
   "metadata": {
    "tags": []
   },
   "outputs": [],
   "source": [
    "split = 500"
   ]
  },
  {
   "cell_type": "code",
   "execution_count": 39,
   "id": "46a73704-25b3-4f47-8799-aefbfa54bb45",
   "metadata": {
    "tags": []
   },
   "outputs": [],
   "source": [
    "labeled_positive_features = [(featureset, 'positive') for featureset in positive_features[:split]]\n",
    "labeled_negative_features = [(featureset, 'negative') for featureset in negative_features[:split]]\n",
    "\n",
    "sentiment_classifier = NaiveBayesClassifier.train(labeled_positive_features + labeled_negative_features)\n"
   ]
  },
  {
   "cell_type": "code",
   "execution_count": 40,
   "id": "27f01281-9da4-48e1-ab12-a821dc53f288",
   "metadata": {
    "tags": []
   },
   "outputs": [
    {
     "ename": "ValueError",
     "evalue": "too many values to unpack (expected 2)",
     "output_type": "error",
     "traceback": [
      "\u001b[0;31m---------------------------------------------------------------------------\u001b[0m",
      "\u001b[0;31mValueError\u001b[0m                                Traceback (most recent call last)",
      "Cell \u001b[0;32mIn[40], line 1\u001b[0m\n\u001b[0;32m----> 1\u001b[0m nltk\u001b[38;5;241m.\u001b[39mclassify\u001b[38;5;241m.\u001b[39mutil\u001b[38;5;241m.\u001b[39maccuracy(sentiment_classifier, positive_features[:split]\u001b[38;5;241m+\u001b[39m negative_features[:split])\u001b[38;5;241m*\u001b[39m\u001b[38;5;241m100\u001b[39m\n",
      "File \u001b[0;32m~/anaconda3/lib/python3.11/site-packages/nltk/classify/util.py:91\u001b[0m, in \u001b[0;36maccuracy\u001b[0;34m(classifier, gold)\u001b[0m\n\u001b[1;32m     90\u001b[0m \u001b[38;5;28;01mdef\u001b[39;00m \u001b[38;5;21maccuracy\u001b[39m(classifier, gold):\n\u001b[0;32m---> 91\u001b[0m     results \u001b[38;5;241m=\u001b[39m classifier\u001b[38;5;241m.\u001b[39mclassify_many([fs \u001b[38;5;28;01mfor\u001b[39;00m (fs, l) \u001b[38;5;129;01min\u001b[39;00m gold])\n\u001b[1;32m     92\u001b[0m     correct \u001b[38;5;241m=\u001b[39m [l \u001b[38;5;241m==\u001b[39m r \u001b[38;5;28;01mfor\u001b[39;00m ((fs, l), r) \u001b[38;5;129;01min\u001b[39;00m \u001b[38;5;28mzip\u001b[39m(gold, results)]\n\u001b[1;32m     93\u001b[0m     \u001b[38;5;28;01mif\u001b[39;00m correct:\n",
      "File \u001b[0;32m~/anaconda3/lib/python3.11/site-packages/nltk/classify/util.py:91\u001b[0m, in \u001b[0;36m<listcomp>\u001b[0;34m(.0)\u001b[0m\n\u001b[1;32m     90\u001b[0m \u001b[38;5;28;01mdef\u001b[39;00m \u001b[38;5;21maccuracy\u001b[39m(classifier, gold):\n\u001b[0;32m---> 91\u001b[0m     results \u001b[38;5;241m=\u001b[39m classifier\u001b[38;5;241m.\u001b[39mclassify_many([fs \u001b[38;5;28;01mfor\u001b[39;00m (fs, l) \u001b[38;5;129;01min\u001b[39;00m gold])\n\u001b[1;32m     92\u001b[0m     correct \u001b[38;5;241m=\u001b[39m [l \u001b[38;5;241m==\u001b[39m r \u001b[38;5;28;01mfor\u001b[39;00m ((fs, l), r) \u001b[38;5;129;01min\u001b[39;00m \u001b[38;5;28mzip\u001b[39m(gold, results)]\n\u001b[1;32m     93\u001b[0m     \u001b[38;5;28;01mif\u001b[39;00m correct:\n",
      "\u001b[0;31mValueError\u001b[0m: too many values to unpack (expected 2)"
     ]
    }
   ],
   "source": [
    "nltk.classify.util.accuracy(sentiment_classifier, positive_features[:split]+ negative_features[:split])*100"
   ]
  }
 ],
 "metadata": {
  "kernelspec": {
   "display_name": "Python 3 (ipykernel)",
   "language": "python",
   "name": "python3"
  },
  "language_info": {
   "codemirror_mode": {
    "name": "ipython",
    "version": 3
   },
   "file_extension": ".py",
   "mimetype": "text/x-python",
   "name": "python",
   "nbconvert_exporter": "python",
   "pygments_lexer": "ipython3",
   "version": "3.11.4"
  }
 },
 "nbformat": 4,
 "nbformat_minor": 5
}
